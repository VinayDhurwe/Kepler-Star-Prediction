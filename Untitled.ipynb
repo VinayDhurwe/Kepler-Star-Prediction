{
 "cells": [
  {
   "cell_type": "code",
   "execution_count": 53,
   "id": "documented-republican",
   "metadata": {},
   "outputs": [],
   "source": [
    "import pandas as pd\n",
    "import numpy as np\n",
    "import matplotlib.pyplot as plt\n",
    "import seaborn as sns\n",
    "%matplotlib inline"
   ]
  },
  {
   "cell_type": "code",
   "execution_count": 54,
   "id": "fantastic-child",
   "metadata": {},
   "outputs": [
    {
     "data": {
      "text/html": [
       "<div>\n",
       "<style scoped>\n",
       "    .dataframe tbody tr th:only-of-type {\n",
       "        vertical-align: middle;\n",
       "    }\n",
       "\n",
       "    .dataframe tbody tr th {\n",
       "        vertical-align: top;\n",
       "    }\n",
       "\n",
       "    .dataframe thead th {\n",
       "        text-align: right;\n",
       "    }\n",
       "</style>\n",
       "<table border=\"1\" class=\"dataframe\">\n",
       "  <thead>\n",
       "    <tr style=\"text-align: right;\">\n",
       "      <th></th>\n",
       "      <th>Temperature</th>\n",
       "      <th>L</th>\n",
       "      <th>R</th>\n",
       "      <th>A_M</th>\n",
       "      <th>Color</th>\n",
       "      <th>Spectral_Class</th>\n",
       "      <th>Type</th>\n",
       "    </tr>\n",
       "  </thead>\n",
       "  <tbody>\n",
       "    <tr>\n",
       "      <th>0</th>\n",
       "      <td>3068</td>\n",
       "      <td>0.002400</td>\n",
       "      <td>0.1700</td>\n",
       "      <td>16.12</td>\n",
       "      <td>Red</td>\n",
       "      <td>M</td>\n",
       "      <td>0</td>\n",
       "    </tr>\n",
       "    <tr>\n",
       "      <th>1</th>\n",
       "      <td>3042</td>\n",
       "      <td>0.000500</td>\n",
       "      <td>0.1542</td>\n",
       "      <td>16.60</td>\n",
       "      <td>Red</td>\n",
       "      <td>M</td>\n",
       "      <td>0</td>\n",
       "    </tr>\n",
       "    <tr>\n",
       "      <th>2</th>\n",
       "      <td>2600</td>\n",
       "      <td>0.000300</td>\n",
       "      <td>0.1020</td>\n",
       "      <td>18.70</td>\n",
       "      <td>Red</td>\n",
       "      <td>M</td>\n",
       "      <td>0</td>\n",
       "    </tr>\n",
       "    <tr>\n",
       "      <th>3</th>\n",
       "      <td>2800</td>\n",
       "      <td>0.000200</td>\n",
       "      <td>0.1600</td>\n",
       "      <td>16.65</td>\n",
       "      <td>Red</td>\n",
       "      <td>M</td>\n",
       "      <td>0</td>\n",
       "    </tr>\n",
       "    <tr>\n",
       "      <th>4</th>\n",
       "      <td>1939</td>\n",
       "      <td>0.000138</td>\n",
       "      <td>0.1030</td>\n",
       "      <td>20.06</td>\n",
       "      <td>Red</td>\n",
       "      <td>M</td>\n",
       "      <td>0</td>\n",
       "    </tr>\n",
       "    <tr>\n",
       "      <th>5</th>\n",
       "      <td>2840</td>\n",
       "      <td>0.000650</td>\n",
       "      <td>0.1100</td>\n",
       "      <td>16.98</td>\n",
       "      <td>Red</td>\n",
       "      <td>M</td>\n",
       "      <td>0</td>\n",
       "    </tr>\n",
       "    <tr>\n",
       "      <th>6</th>\n",
       "      <td>2637</td>\n",
       "      <td>0.000730</td>\n",
       "      <td>0.1270</td>\n",
       "      <td>17.22</td>\n",
       "      <td>Red</td>\n",
       "      <td>M</td>\n",
       "      <td>0</td>\n",
       "    </tr>\n",
       "    <tr>\n",
       "      <th>7</th>\n",
       "      <td>2600</td>\n",
       "      <td>0.000400</td>\n",
       "      <td>0.0960</td>\n",
       "      <td>17.40</td>\n",
       "      <td>Red</td>\n",
       "      <td>M</td>\n",
       "      <td>0</td>\n",
       "    </tr>\n",
       "    <tr>\n",
       "      <th>8</th>\n",
       "      <td>2650</td>\n",
       "      <td>0.000690</td>\n",
       "      <td>0.1100</td>\n",
       "      <td>17.45</td>\n",
       "      <td>Red</td>\n",
       "      <td>M</td>\n",
       "      <td>0</td>\n",
       "    </tr>\n",
       "    <tr>\n",
       "      <th>9</th>\n",
       "      <td>2700</td>\n",
       "      <td>0.000180</td>\n",
       "      <td>0.1300</td>\n",
       "      <td>16.05</td>\n",
       "      <td>Red</td>\n",
       "      <td>M</td>\n",
       "      <td>0</td>\n",
       "    </tr>\n",
       "  </tbody>\n",
       "</table>\n",
       "</div>"
      ],
      "text/plain": [
       "   Temperature         L       R    A_M Color Spectral_Class  Type\n",
       "0         3068  0.002400  0.1700  16.12   Red              M     0\n",
       "1         3042  0.000500  0.1542  16.60   Red              M     0\n",
       "2         2600  0.000300  0.1020  18.70   Red              M     0\n",
       "3         2800  0.000200  0.1600  16.65   Red              M     0\n",
       "4         1939  0.000138  0.1030  20.06   Red              M     0\n",
       "5         2840  0.000650  0.1100  16.98   Red              M     0\n",
       "6         2637  0.000730  0.1270  17.22   Red              M     0\n",
       "7         2600  0.000400  0.0960  17.40   Red              M     0\n",
       "8         2650  0.000690  0.1100  17.45   Red              M     0\n",
       "9         2700  0.000180  0.1300  16.05   Red              M     0"
      ]
     },
     "execution_count": 54,
     "metadata": {},
     "output_type": "execute_result"
    }
   ],
   "source": [
    "data = pd.read_csv(\"Stars.csv\")\n",
    "data.head(10)"
   ]
  },
  {
   "cell_type": "code",
   "execution_count": 55,
   "id": "juvenile-modification",
   "metadata": {},
   "outputs": [
    {
     "name": "stdout",
     "output_type": "stream",
     "text": [
      "<class 'pandas.core.frame.DataFrame'>\n",
      "RangeIndex: 240 entries, 0 to 239\n",
      "Data columns (total 7 columns):\n",
      " #   Column          Non-Null Count  Dtype  \n",
      "---  ------          --------------  -----  \n",
      " 0   Temperature     240 non-null    int64  \n",
      " 1   L               240 non-null    float64\n",
      " 2   R               240 non-null    float64\n",
      " 3   A_M             240 non-null    float64\n",
      " 4   Color           240 non-null    object \n",
      " 5   Spectral_Class  240 non-null    object \n",
      " 6   Type            240 non-null    int64  \n",
      "dtypes: float64(3), int64(2), object(2)\n",
      "memory usage: 13.2+ KB\n"
     ]
    }
   ],
   "source": [
    "data.info()"
   ]
  },
  {
   "cell_type": "code",
   "execution_count": 56,
   "id": "enhanced-dutch",
   "metadata": {},
   "outputs": [
    {
     "data": {
      "text/plain": [
       "Temperature       0\n",
       "L                 0\n",
       "R                 0\n",
       "A_M               0\n",
       "Color             0\n",
       "Spectral_Class    0\n",
       "Type              0\n",
       "dtype: int64"
      ]
     },
     "execution_count": 56,
     "metadata": {},
     "output_type": "execute_result"
    }
   ],
   "source": [
    "data.isnull().sum()"
   ]
  },
  {
   "cell_type": "code",
   "execution_count": 57,
   "id": "alive-justice",
   "metadata": {},
   "outputs": [
    {
     "name": "stdout",
     "output_type": "stream",
     "text": [
      "shape =  (240, 7) \n",
      "dimensions =  1680 \n",
      "size =  1680\n"
     ]
    }
   ],
   "source": [
    "shape = data.shape\n",
    "size = data.size\n",
    "print(\"shape = \",shape, \"\\ndimensions = \",shape[0]*shape[1],\"\\nsize = \",size)"
   ]
  },
  {
   "cell_type": "code",
   "execution_count": null,
   "id": "olive-auckland",
   "metadata": {},
   "outputs": [],
   "source": []
  },
  {
   "cell_type": "code",
   "execution_count": 58,
   "id": "entire-retirement",
   "metadata": {},
   "outputs": [
    {
     "data": {
      "text/plain": [
       "array(['Red', 'Blue White', 'White', 'Yellowish White', 'Blue white',\n",
       "       'Pale yellow orange', 'Blue', 'Blue-white', 'Whitish',\n",
       "       'yellow-white', 'Orange', 'White-Yellow', 'white', 'yellowish',\n",
       "       'Yellowish', 'Orange-Red', 'Blue-White'], dtype=object)"
      ]
     },
     "execution_count": 58,
     "metadata": {},
     "output_type": "execute_result"
    }
   ],
   "source": [
    "data[\"Color\"].unique()"
   ]
  },
  {
   "cell_type": "code",
   "execution_count": 59,
   "id": "occupational-trash",
   "metadata": {},
   "outputs": [],
   "source": [
    "data[\"Color\"].replace(\"Blue white\",\"Blue White\", inplace = True)\n",
    "data[\"Color\"].replace(\"Blue-white\",\"Blue White\", inplace = True)\n",
    "data[\"Color\"].replace(\"Blue-White\",\"Blue White\", inplace = True)\n",
    "data[\"Color\"].replace(\"yellow-white\",\"Yellowish White\", inplace = True)\n",
    "data[\"Color\"].replace(\"White-Yellow\",\"Yellowish White\", inplace = True)"
   ]
  },
  {
   "cell_type": "code",
   "execution_count": 60,
   "id": "classified-theme",
   "metadata": {},
   "outputs": [
    {
     "data": {
      "image/png": "[encoded data removed]",
      "text/plain": [
       "<Figure size 1152x576 with 1 Axes>"
      ]
     },
     "metadata": {
      "needs_background": "light"
     },
     "output_type": "display_data"
    }
   ],
   "source": [
    "plt.figure(figsize = (16,8))\n",
    "plt.bar( data[\"Color\"],data[\"Temperature\"])\n",
    "plt.xticks(rotation=45)\n",
    "plt.show()"
   ]
  },
  {
   "cell_type": "code",
   "execution_count": 61,
   "id": "characteristic-michigan",
   "metadata": {},
   "outputs": [
    {
     "data": {
      "image/png": "[encoded data removed]",
      "text/plain": [
       "<Figure size 1152x576 with 1 Axes>"
      ]
     },
     "metadata": {
      "needs_background": "light"
     },
     "output_type": "display_data"
    }
   ],
   "source": [
    "plt.figure(figsize = (16,8))\n",
    "plt.bar( data[\"Spectral_Class\"],data[\"Temperature\"])\n",
    "plt.xticks(rotation=45)\n",
    "plt.show()"
   ]
  },
  {
   "cell_type": "code",
   "execution_count": 62,
   "id": "effective-check",
   "metadata": {},
   "outputs": [
    {
     "data": {
      "text/plain": [
       "<AxesSubplot:>"
      ]
     },
     "execution_count": 62,
     "metadata": {},
     "output_type": "execute_result"
    },
    {
     "data": {
      "image/png": "[encoded data removed]",
      "text/plain": [
       "<Figure size 720x432 with 2 Axes>"
      ]
     },
     "metadata": {
      "needs_background": "light"
     },
     "output_type": "display_data"
    }
   ],
   "source": [
    "cor = data.corr()\n",
    "plt.figure(figsize = (10,6))\n",
    "sns.heatmap(cor, annot = True)"
   ]
  },
  {
   "cell_type": "code",
   "execution_count": 63,
   "id": "random-warning",
   "metadata": {},
   "outputs": [],
   "source": [
    "data_new  = data.drop([\"A_M\", \"Type\"], axis = 1)\n",
    "data_new_y = data[\"Type\"]"
   ]
  },
  {
   "cell_type": "code",
   "execution_count": 64,
   "id": "hired-yellow",
   "metadata": {},
   "outputs": [],
   "source": [
    "x = data.drop([\"Type\"], axis  = 1)\n",
    "y = data[\"Type\"]"
   ]
  },
  {
   "cell_type": "code",
   "execution_count": 105,
   "id": "varied-miniature",
   "metadata": {},
   "outputs": [],
   "source": [
    "from sklearn.model_selection import train_test_split\n",
    "from sklearn.linear_model import LogisticRegression\n",
    "from sklearn.preprocessing import LabelEncoder\n",
    "from sklearn.neighbors import KNeighborsClassifier\n",
    "from sklearn.preprocessing import StandardScaler\n",
    "from sklearn.svm import SVC, NuSVC\n",
    "from sklearn.tree import DecisionTreeClassifier \n",
    "from sklearn.ensemble import RandomForestClassifier\n",
    "from sklearn.ensemble import GradientBoostingClassifier\n",
    "from sklearn.metrics import  confusion_matrix\n",
    "from sklearn.metrics import plot_confusion_matrix\n",
    "from sklearn.naive_bayes import GaussianNB\n",
    "from sklearn.ensemble import ExtraTreesClassifier\n",
    "from sklearn.metrics import accuracy_score"
   ]
  },
  {
   "cell_type": "code",
   "execution_count": 66,
   "id": "distributed-short",
   "metadata": {},
   "outputs": [],
   "source": [
    "le  = LabelEncoder()"
   ]
  },
  {
   "cell_type": "code",
   "execution_count": 67,
   "id": "british-angel",
   "metadata": {},
   "outputs": [],
   "source": [
    "x[\"Color\"] = le.fit_transform(x[\"Color\"])\n",
    "x[\"Spectral_Class\"] = le.fit_transform(x[\"Spectral_Class\"])\n",
    "\n",
    "data_new[\"Color\"] = le.fit_transform(data_new[\"Color\"])\n",
    "data_new[\"Spectral_Class\"] = le.fit_transform(data_new[\"Spectral_Class\"])"
   ]
  },
  {
   "cell_type": "code",
   "execution_count": 68,
   "id": "national-privacy",
   "metadata": {},
   "outputs": [],
   "source": [
    "scaler = StandardScaler()\n",
    "model = scaler.fit(x)\n",
    "scaled_data = model.transform(x)\n",
    "\n",
    "model_new = scaler.fit(data_new)\n",
    "scaled_data_new = model.transform(data_new)"
   ]
  },
  {
   "cell_type": "code",
   "execution_count": 72,
   "id": "linear-asian",
   "metadata": {},
   "outputs": [],
   "source": [
    "x_train, x_test, y_train, y_test = train_test_split(scaled_data, y, test_size=0.25, random_state=42)\n",
    "\n",
    "#x_train, x_test, y_train, y_test = train_test_split(scaled_data_new, y, test_size=0.25, random_state=42)"
   ]
  },
  {
   "cell_type": "code",
   "execution_count": 95,
   "id": "silver-professor",
   "metadata": {},
   "outputs": [
    {
     "data": {
      "text/plain": [
       "95     3\n",
       "126    0\n",
       "120    0\n",
       "67     0\n",
       "101    4\n",
       "      ..\n",
       "106    4\n",
       "14     1\n",
       "92     3\n",
       "179    5\n",
       "102    4\n",
       "Name: Type, Length: 180, dtype: int64"
      ]
     },
     "execution_count": 95,
     "metadata": {},
     "output_type": "execute_result"
    }
   ],
   "source": []
  },
  {
   "cell_type": "code",
   "execution_count": 106,
   "id": "timely-melissa",
   "metadata": {},
   "outputs": [],
   "source": [
    "lr = LogisticRegression()\n",
    "clf = lr.fit(x_train,y_train)\n",
    "predicted = clf.predict(x_test)"
   ]
  },
  {
   "cell_type": "code",
   "execution_count": 107,
   "id": "medical-madrid",
   "metadata": {},
   "outputs": [
    {
     "name": "stdout",
     "output_type": "stream",
     "text": [
      "[2 0 3 4 4 5 5 2 0 2 4 2 5 4 5 5 0 1 3 0 0 1 5 3 5 3 1 2 5 3 1 4 2 0 1 0 1\n",
      " 5 1 5 4 5 4 1 3 0 4 3 1 0 2 0 2 1 4 2 5 3 1 1] \n",
      " 24     2\n",
      "6      0\n",
      "93     3\n",
      "109    4\n",
      "104    4\n",
      "172    5\n",
      "233    5\n",
      "86     2\n",
      "9      0\n",
      "143    2\n",
      "45     4\n",
      "206    2\n",
      "114    5\n",
      "168    4\n",
      "113    5\n",
      "230    5\n",
      "185    0\n",
      "15     1\n",
      "152    3\n",
      "125    0\n",
      "127    0\n",
      "19     1\n",
      "235    5\n",
      "30     3\n",
      "176    5\n",
      "150    3\n",
      "10     1\n",
      "201    2\n",
      "237    5\n",
      "153    3\n",
      "96     3\n",
      "228    4\n",
      "25     2\n",
      "182    0\n",
      "18     1\n",
      "69     0\n",
      "192    1\n",
      "55     5\n",
      "79     1\n",
      "175    5\n",
      "227    4\n",
      "112    5\n",
      "221    4\n",
      "16     1\n",
      "156    3\n",
      "66     0\n",
      "165    4\n",
      "38     3\n",
      "139    1\n",
      "60     0\n",
      "204    2\n",
      "186    0\n",
      "207    2\n",
      "193    1\n",
      "224    4\n",
      "209    2\n",
      "115    5\n",
      "219    3\n",
      "73     1\n",
      "136    1\n",
      "Name: Type, dtype: int64\n"
     ]
    }
   ],
   "source": [
    "print(predicted,\"\\n\",y_test)"
   ]
  },
  {
   "cell_type": "code",
   "execution_count": 108,
   "id": "conventional-balance",
   "metadata": {},
   "outputs": [
    {
     "data": {
      "text/plain": [
       "0.9833333333333333"
      ]
     },
     "execution_count": 108,
     "metadata": {},
     "output_type": "execute_result"
    }
   ],
   "source": [
    "accuracy_score(y_test, predicted)"
   ]
  },
  {
   "cell_type": "code",
   "execution_count": 84,
   "id": "transsexual-arrow",
   "metadata": {},
   "outputs": [
    {
     "name": "stdout",
     "output_type": "stream",
     "text": [
      "Logistics Regression accuracy =  98.33333333333333\n"
     ]
    }
   ],
   "source": [
    "print(\"Logistics Regression accuracy = \",(clf.score(x_test, y_test)*100))"
   ]
  },
  {
   "cell_type": "code",
   "execution_count": 97,
   "id": "occupied-robinson",
   "metadata": {},
   "outputs": [
    {
     "name": "stdout",
     "output_type": "stream",
     "text": [
      "For k = 1 accuracy is 0.9333333333333333\n",
      "For k = 3 accuracy is 0.9333333333333333\n",
      "For k = 5 accuracy is 0.95\n",
      "For k = 7 accuracy is 0.95\n",
      "For k = 9 accuracy is 0.95\n",
      "For k = 11 accuracy is 0.95\n",
      "For k = 13 accuracy is 0.95\n",
      "For k = 15 accuracy is 0.95\n"
     ]
    }
   ],
   "source": [
    "scores = []\n",
    "for i in range(1,16,2):\n",
    "    knn = KNeighborsClassifier(n_neighbors=i)\n",
    "    knn.fit(x_train, y_train)\n",
    "    print(\"For k = %d accuracy is\"%i,knn.score(x_test,y_test))"
   ]
  },
  {
   "cell_type": "code",
   "execution_count": 102,
   "id": "emerging-championship",
   "metadata": {},
   "outputs": [],
   "source": [
    "dtree = DecisionTreeClassifier()\n",
    "dtree = dtree.fit(x_train,y_train)\n",
    "predicted_tree = clf.predict(x_test)"
   ]
  },
  {
   "cell_type": "code",
   "execution_count": 103,
   "id": "precise-friendly",
   "metadata": {},
   "outputs": [
    {
     "name": "stdout",
     "output_type": "stream",
     "text": [
      "[2 0 3 4 4 5 5 2 0 2 4 2 5 4 5 5 0 1 3 0 0 1 5 3 5 3 1 2 5 3 1 4 2 0 1 0 1\n",
      " 5 1 5 4 5 4 1 3 0 4 3 1 0 2 0 2 1 4 2 5 3 1 1] \n",
      " 24     2\n",
      "6      0\n",
      "93     3\n",
      "109    4\n",
      "104    4\n",
      "172    5\n",
      "233    5\n",
      "86     2\n",
      "9      0\n",
      "143    2\n",
      "45     4\n",
      "206    2\n",
      "114    5\n",
      "168    4\n",
      "113    5\n",
      "230    5\n",
      "185    0\n",
      "15     1\n",
      "152    3\n",
      "125    0\n",
      "127    0\n",
      "19     1\n",
      "235    5\n",
      "30     3\n",
      "176    5\n",
      "150    3\n",
      "10     1\n",
      "201    2\n",
      "237    5\n",
      "153    3\n",
      "96     3\n",
      "228    4\n",
      "25     2\n",
      "182    0\n",
      "18     1\n",
      "69     0\n",
      "192    1\n",
      "55     5\n",
      "79     1\n",
      "175    5\n",
      "227    4\n",
      "112    5\n",
      "221    4\n",
      "16     1\n",
      "156    3\n",
      "66     0\n",
      "165    4\n",
      "38     3\n",
      "139    1\n",
      "60     0\n",
      "204    2\n",
      "186    0\n",
      "207    2\n",
      "193    1\n",
      "224    4\n",
      "209    2\n",
      "115    5\n",
      "219    3\n",
      "73     1\n",
      "136    1\n",
      "Name: Type, dtype: int64\n"
     ]
    }
   ],
   "source": [
    "print(predicted_tree,\"\\n\",y_test)"
   ]
  },
  {
   "cell_type": "code",
   "execution_count": 104,
   "id": "thick-phrase",
   "metadata": {},
   "outputs": [
    {
     "name": "stdout",
     "output_type": "stream",
     "text": [
      "Logistics Regression accuracy =  100.0\n"
     ]
    }
   ],
   "source": [
    "print(\"Logistics Regression accuracy = \",(dtree.score(x_test, y_test)*100))"
   ]
  },
  {
   "cell_type": "code",
   "execution_count": 109,
   "id": "secure-concert",
   "metadata": {},
   "outputs": [
    {
     "data": {
      "text/plain": [
       "<sklearn.metrics._plot.confusion_matrix.ConfusionMatrixDisplay at 0x1ae18d3bee0>"
      ]
     },
     "execution_count": 109,
     "metadata": {},
     "output_type": "execute_result"
    },
    {
     "data": {
      "image/png": "[encoded data removed]",
      "text/plain": [
       "<Figure size 432x288 with 2 Axes>"
      ]
     },
     "metadata": {
      "needs_background": "light"
     },
     "output_type": "display_data"
    }
   ],
   "source": [
    "plot_confusion_matrix(dtree, x_test, y_test)"
   ]
  },
  {
   "cell_type": "code",
   "execution_count": 110,
   "id": "running-lindsay",
   "metadata": {},
   "outputs": [
    {
     "name": "stdout",
     "output_type": "stream",
     "text": [
      "Random Forest Algorithm Accuracy Score : 100.00%\n"
     ]
    }
   ],
   "source": [
    "rf = RandomForestClassifier(n_estimators = 1000, random_state = 1)\n",
    "rf.fit(x_train,y_train)\n",
    "predicted_tree = rf.predict(x_test)\n",
    "print(\"Random Forest Algorithm Accuracy Score : {:.2f}%\".format(rf.score(x_test, y_test)*100))"
   ]
  },
  {
   "cell_type": "code",
   "execution_count": 111,
   "id": "sudden-monday",
   "metadata": {},
   "outputs": [
    {
     "data": {
      "text/plain": [
       "<sklearn.metrics._plot.confusion_matrix.ConfusionMatrixDisplay at 0x1ae18f5d3a0>"
      ]
     },
     "execution_count": 111,
     "metadata": {},
     "output_type": "execute_result"
    },
    {
     "data": {
      "image/png": "[encoded data removed]",
      "text/plain": [
       "<Figure size 432x288 with 2 Axes>"
      ]
     },
     "metadata": {
      "needs_background": "light"
     },
     "output_type": "display_data"
    }
   ],
   "source": [
    "plot_confusion_matrix(rf, x_test, y_test)"
   ]
  },
  {
   "cell_type": "code",
   "execution_count": 112,
   "id": "competent-crown",
   "metadata": {},
   "outputs": [
    {
     "name": "stdout",
     "output_type": "stream",
     "text": [
      "Accuracy of Naive Bayes: 96.67%\n"
     ]
    }
   ],
   "source": [
    "nb = GaussianNB()\n",
    "nb.fit(x_train,y_train)\n",
    "predicted_NB = rf.predict(x_test)\n",
    "print(\"Accuracy of Naive Bayes: {:.2f}%\".format(nb.score(x_test, y_test)*100))"
   ]
  },
  {
   "cell_type": "code",
   "execution_count": 113,
   "id": "jewish-spray",
   "metadata": {},
   "outputs": [
    {
     "data": {
      "text/plain": [
       "<sklearn.metrics._plot.confusion_matrix.ConfusionMatrixDisplay at 0x1ae197292b0>"
      ]
     },
     "execution_count": 113,
     "metadata": {},
     "output_type": "execute_result"
    },
    {
     "data": {
      "image/png": "[encoded data removed]",
      "text/plain": [
       "<Figure size 432x288 with 2 Axes>"
      ]
     },
     "metadata": {
      "needs_background": "light"
     },
     "output_type": "display_data"
    }
   ],
   "source": [
    "plot_confusion_matrix(nb, x_test, y_test)"
   ]
  },
  {
   "cell_type": "code",
   "execution_count": 114,
   "id": "ambient-origin",
   "metadata": {},
   "outputs": [
    {
     "name": "stdout",
     "output_type": "stream",
     "text": [
      "Accuracy of gradient boosting: 100.00%\n"
     ]
    }
   ],
   "source": [
    "clf = GradientBoostingClassifier(n_estimators=100, learning_rate=1.0,\n",
    "                                 max_depth=1, random_state=0).fit(x_train,y_train)\n",
    "clf.score(x_test, y_test)\n",
    "print(\"Accuracy of gradient boosting: {:.2f}%\".format(clf.score(x_test, y_test)*100))"
   ]
  },
  {
   "cell_type": "code",
   "execution_count": 115,
   "id": "jewish-startup",
   "metadata": {},
   "outputs": [
    {
     "data": {
      "text/plain": [
       "<sklearn.metrics._plot.confusion_matrix.ConfusionMatrixDisplay at 0x1ae195440a0>"
      ]
     },
     "execution_count": 115,
     "metadata": {},
     "output_type": "execute_result"
    },
    {
     "data": {
      "image/png": "[encoded data removed]",
      "text/plain": [
       "<Figure size 432x288 with 2 Axes>"
      ]
     },
     "metadata": {
      "needs_background": "light"
     },
     "output_type": "display_data"
    }
   ],
   "source": [
    "plot_confusion_matrix(clf, x_test, y_test)"
   ]
  },
  {
   "cell_type": "code",
   "execution_count": 116,
   "id": "sapphire-mouth",
   "metadata": {},
   "outputs": [
    {
     "name": "stdout",
     "output_type": "stream",
     "text": [
      "Extra Trees Algorithm Accuracy Score : 98.33%\n"
     ]
    }
   ],
   "source": [
    "ext = ExtraTreesClassifier(n_estimators=10, max_depth=None,min_samples_split=2, random_state=0)\n",
    "ext.fit(x_train,y_train)\n",
    "print(\"Extra Trees Algorithm Accuracy Score : {:.2f}%\".format(ext.score(x_test, y_test)*100))"
   ]
  },
  {
   "cell_type": "code",
   "execution_count": 117,
   "id": "lightweight-gentleman",
   "metadata": {},
   "outputs": [
    {
     "data": {
      "text/plain": [
       "<sklearn.metrics._plot.confusion_matrix.ConfusionMatrixDisplay at 0x1ae18860130>"
      ]
     },
     "execution_count": 117,
     "metadata": {},
     "output_type": "execute_result"
    },
    {
     "data": {
      "image/png": "[encoded data removed]",
      "text/plain": [
       "<Figure size 432x288 with 2 Axes>"
      ]
     },
     "metadata": {
      "needs_background": "light"
     },
     "output_type": "display_data"
    }
   ],
   "source": [
    "plot_confusion_matrix(ext, x_test, y_test)"
   ]
  },
  {
   "cell_type": "code",
   "execution_count": null,
   "id": "defined-immunology",
   "metadata": {},
   "outputs": [],
   "source": []
  }
 ],
 "metadata": {
  "kernelspec": {
   "display_name": "Python 3",
   "language": "python",
   "name": "python3"
  },
  "language_info": {
   "codemirror_mode": {
    "name": "ipython",
    "version": 3
   },
   "file_extension": ".py",
   "mimetype": "text/x-python",
   "name": "python",
   "nbconvert_exporter": "python",
   "pygments_lexer": "ipython3",
   "version": "3.8.8"
  }
 },
 "nbformat": 4,
 "nbformat_minor": 5
}
